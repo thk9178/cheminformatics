{
 "cells": [
  {
   "cell_type": "markdown",
   "id": "ecb2468c",
   "metadata": {},
   "source": [
    "# Substructure에 해당하는 부분을 표시"
   ]
  },
  {
   "cell_type": "code",
   "execution_count": 1,
   "id": "19c260de",
   "metadata": {},
   "outputs": [
    {
     "name": "stdout",
     "output_type": "stream",
     "text": [
      "RDKit version: 2018.09.2\n"
     ]
    }
   ],
   "source": [
    "import rdkit\n",
    "\n",
    "from rdkit import Chem\n",
    "from rdkit.Chem import Draw\n",
    "from rdkit.Chem import AllChem\n",
    "from rdkit.Chem import rdDepictor\n",
    "\n",
    "from rdkit.Chem.Draw import IPythonConsole\n",
    "from rdkit.Chem.Draw import rdMolDraw2D\n",
    "from IPython.display import SVG\n",
    "\n",
    "print('RDKit version:', rdkit.__version__)"
   ]
  },
  {
   "cell_type": "markdown",
   "id": "1cb56216",
   "metadata": {},
   "source": [
    "* Substructure 설정"
   ]
  },
  {
   "cell_type": "code",
   "execution_count": 2,
   "id": "a62c40e8",
   "metadata": {},
   "outputs": [],
   "source": [
    "substructure_smiles = 'C=C'\n",
    "substructure_mol = Chem.MolFromSmiles(substructure_smiles)"
   ]
  },
  {
   "cell_type": "markdown",
   "id": "f1a8e87b",
   "metadata": {},
   "source": [
    "* Substructure를 검색할 분자 설정"
   ]
  },
  {
   "cell_type": "code",
   "execution_count": 3,
   "id": "3f0bad06",
   "metadata": {},
   "outputs": [],
   "source": [
    "mol = Chem.MolFromSmiles('C=Cc1ccc([H])cc1')\n",
    "Chem.Kekulize(mol) # aromatic인 bond type을 single, double 로 바꿔줘야 C=C 를 찾을 수 있다."
   ]
  },
  {
   "cell_type": "markdown",
   "id": "5d473ab6",
   "metadata": {},
   "source": [
    "단순하게는 mol 객체에서 GetSubstructureMatch 를 이용하면 된다."
   ]
  },
  {
   "cell_type": "code",
   "execution_count": 4,
   "id": "b61b0828",
   "metadata": {},
   "outputs": [],
   "source": [
    "# https://stackoverflow.com/questions/61659643/rdkit-how-to-draw-high-resolution-chemical-structure\n",
    "# http://rdkit.blogspot.com/2020/04/new-drawing-options-in-202003-release.html\n",
    "\n",
    "def moltosvg(mol, substructure, molSize = (300,300), kekulize = True):\n",
    "    mc = Chem.Mol(mol.ToBinary())\n",
    "    hit_bonds = []\n",
    "    hit_ats = list(mol.GetSubstructMatch(substructure))\n",
    "    \n",
    "    for bond in substructure.GetBonds():\n",
    "        aid1 = hit_ats[bond.GetBeginAtomIdx()]\n",
    "        aid2 = hit_ats[bond.GetEndAtomIdx()]\n",
    "        hit_bonds.append(mol.GetBondBetweenAtoms(aid1,aid2).GetIdx())\n",
    "    print(hit_bonds)\n",
    "    if kekulize:\n",
    "        try:\n",
    "            Chem.Kekulize(mc)\n",
    "        except:\n",
    "            mc = Chem.Mol(mol.ToBinary())\n",
    "    if not mc.GetNumConformers():\n",
    "        rdDepictor.Compute2DCoords(mc)\n",
    "    drawer = rdMolDraw2D.MolDraw2DSVG(molSize[0],molSize[1])\n",
    "    drawer.DrawMolecule(mc,highlightAtoms=hit_ats, highlightBonds=hit_bonds)\n",
    "    drawer.FinishDrawing()\n",
    "    svg = drawer.GetDrawingText()\n",
    "    return svg.replace('svg:','')"
   ]
  },
  {
   "cell_type": "code",
   "execution_count": 5,
   "id": "79dbfabc",
   "metadata": {},
   "outputs": [
    {
     "name": "stdout",
     "output_type": "stream",
     "text": [
      "[0]\n"
     ]
    },
    {
     "data": {
      "image/svg+xml": [
       "<svg baseProfile=\"full\" height=\"300px\" version=\"1.1\" width=\"300px\" xml:space=\"preserve\" xmlns=\"http://www.w3.org/2000/svg\" xmlns:rdkit=\"http://www.rdkit.org/xml\" xmlns:xlink=\"http://www.w3.org/1999/xlink\">\n",
       "<rect height=\"300\" style=\"opacity:1.0;fill:#FFFFFF;stroke:none\" width=\"300\" x=\"0\" y=\"0\"> </rect>\n",
       "<path d=\"M 13.6364,127.691 64.9515,183.286\" style=\"fill:none;fill-rule:evenodd;stroke:#FF7F7F;stroke-width:16px;stroke-linecap:butt;stroke-linejoin:miter;stroke-opacity:1\"/>\n",
       "<ellipse cx=\"13.6364\" cy=\"127.691\" rx=\"20.1753\" ry=\"20.1753\" style=\"fill:#FF7F7F;fill-rule:evenodd;stroke:#FF7F7F;stroke-width:1px;stroke-linecap:butt;stroke-linejoin:miter;stroke-opacity:1\"/>\n",
       "<ellipse cx=\"64.9515\" cy=\"183.286\" rx=\"20.1753\" ry=\"20.1753\" style=\"fill:#FF7F7F;fill-rule:evenodd;stroke:#FF7F7F;stroke-width:1px;stroke-linecap:butt;stroke-linejoin:miter;stroke-opacity:1\"/>\n",
       "<path d=\"M 8.07689,132.823 59.3921,188.417\" style=\"fill:none;fill-rule:evenodd;stroke:#000000;stroke-width:2px;stroke-linecap:butt;stroke-linejoin:miter;stroke-opacity:1\"/>\n",
       "<path d=\"M 19.1958,122.56 70.511,178.154\" style=\"fill:none;fill-rule:evenodd;stroke:#000000;stroke-width:2px;stroke-linecap:butt;stroke-linejoin:miter;stroke-opacity:1\"/>\n",
       "<path d=\"M 64.9515,183.286 138.756,166.643\" style=\"fill:none;fill-rule:evenodd;stroke:#000000;stroke-width:2px;stroke-linecap:butt;stroke-linejoin:miter;stroke-opacity:1\"/>\n",
       "<path d=\"M 138.756,166.643 161.244,94.4053\" style=\"fill:none;fill-rule:evenodd;stroke:#000000;stroke-width:2px;stroke-linecap:butt;stroke-linejoin:miter;stroke-opacity:1\"/>\n",
       "<path d=\"M 156.576,160.305 172.319,109.739\" style=\"fill:none;fill-rule:evenodd;stroke:#000000;stroke-width:2px;stroke-linecap:butt;stroke-linejoin:miter;stroke-opacity:1\"/>\n",
       "<path d=\"M 138.756,166.643 190.071,222.238\" style=\"fill:none;fill-rule:evenodd;stroke:#000000;stroke-width:2px;stroke-linecap:butt;stroke-linejoin:miter;stroke-opacity:1\"/>\n",
       "<path d=\"M 161.244,94.4053 235.048,77.7624\" style=\"fill:none;fill-rule:evenodd;stroke:#000000;stroke-width:2px;stroke-linecap:butt;stroke-linejoin:miter;stroke-opacity:1\"/>\n",
       "<path d=\"M 235.048,77.7624 286.364,133.357\" style=\"fill:none;fill-rule:evenodd;stroke:#000000;stroke-width:2px;stroke-linecap:butt;stroke-linejoin:miter;stroke-opacity:1\"/>\n",
       "<path d=\"M 231.627,96.3646 267.547,135.281\" style=\"fill:none;fill-rule:evenodd;stroke:#000000;stroke-width:2px;stroke-linecap:butt;stroke-linejoin:miter;stroke-opacity:1\"/>\n",
       "<path d=\"M 286.364,133.357 263.875,205.595\" style=\"fill:none;fill-rule:evenodd;stroke:#000000;stroke-width:2px;stroke-linecap:butt;stroke-linejoin:miter;stroke-opacity:1\"/>\n",
       "<path d=\"M 263.875,205.595 190.071,222.238\" style=\"fill:none;fill-rule:evenodd;stroke:#000000;stroke-width:2px;stroke-linecap:butt;stroke-linejoin:miter;stroke-opacity:1\"/>\n",
       "<path d=\"M 249.476,193.33 197.813,204.98\" style=\"fill:none;fill-rule:evenodd;stroke:#000000;stroke-width:2px;stroke-linecap:butt;stroke-linejoin:miter;stroke-opacity:1\"/>\n",
       "</svg>"
      ],
      "text/plain": [
       "<IPython.core.display.SVG object>"
      ]
     },
     "execution_count": 5,
     "metadata": {},
     "output_type": "execute_result"
    }
   ],
   "source": [
    "SVG(moltosvg(mol, substructure_mol))"
   ]
  },
  {
   "cell_type": "markdown",
   "id": "500b0614",
   "metadata": {},
   "source": [
    "하지만 이 방법은 분자내에 존재하는 모든 substructure를 찾아서 표시해주지 않는다.  \n",
    "**GetSubstructMatches** 를 이용하면 모든 substurcture를 찾아서 리스트로 만들어준다.  \n",
    "**GetSubstructMatches**를 이용한다.  \n",
    "\n",
    "표시해야할 atoms, bonds 를 리스트로 저장한 후,  \n",
    "이 리스트를 highlight 를 해야되는 대상으로 이용한다."
   ]
  },
  {
   "cell_type": "code",
   "execution_count": 6,
   "id": "cf4270bf",
   "metadata": {},
   "outputs": [],
   "source": [
    "def moltosvg(mol, substructure, molSize = (300,300), kekulize = True):\n",
    "    Chem.Kekulize(mol)\n",
    "    mc = Chem.Mol(mol.ToBinary())\n",
    "    hit_bonds = []\n",
    "    hit_ats = list(mol.GetSubstructMatches(substructure))\n",
    "    \n",
    "    hit_ats_list = []\n",
    "    for i in hit_ats:\n",
    "        for j in i:\n",
    "            hit_ats_list.append(j)\n",
    "    \n",
    "    for i in hit_ats:\n",
    "        for bond in substructure.GetBonds():\n",
    "            #print('1:', bond)\n",
    "            aid1 = list(i)[bond.GetBeginAtomIdx()]\n",
    "            aid2 = list(i)[bond.GetEndAtomIdx()]\n",
    "            hit_bonds.append(mol.GetBondBetweenAtoms(aid1,aid2).GetIdx())\n",
    "            #print('2:', hit_bonds)\n",
    "\n",
    "\n",
    "    if kekulize:\n",
    "        try:\n",
    "            Chem.Kekulize(mc)\n",
    "        except:\n",
    "            mc = Chem.Mol(mol.ToBinary())\n",
    "    if not mc.GetNumConformers():\n",
    "        rdDepictor.Compute2DCoords(mc)\n",
    "    drawer = rdMolDraw2D.MolDraw2DSVG(molSize[0],molSize[1])\n",
    "    drawer.DrawMolecule(mc,highlightAtoms=hit_ats_list, highlightBonds=hit_bonds)\n",
    "    drawer.FinishDrawing()\n",
    "    svg = drawer.GetDrawingText()\n",
    "    \n",
    "    return svg.replace('svg:','')\n"
   ]
  },
  {
   "cell_type": "code",
   "execution_count": 7,
   "id": "b7fec4e5",
   "metadata": {},
   "outputs": [
    {
     "data": {
      "image/svg+xml": [
       "<svg baseProfile=\"full\" height=\"300px\" version=\"1.1\" width=\"300px\" xml:space=\"preserve\" xmlns=\"http://www.w3.org/2000/svg\" xmlns:rdkit=\"http://www.rdkit.org/xml\" xmlns:xlink=\"http://www.w3.org/1999/xlink\">\n",
       "<rect height=\"300\" style=\"opacity:1.0;fill:#FFFFFF;stroke:none\" width=\"300\" x=\"0\" y=\"0\"> </rect>\n",
       "<path d=\"M 13.6364,127.691 64.9515,183.286\" style=\"fill:none;fill-rule:evenodd;stroke:#FF7F7F;stroke-width:16px;stroke-linecap:butt;stroke-linejoin:miter;stroke-opacity:1\"/>\n",
       "<path d=\"M 138.756,166.643 161.244,94.4053\" style=\"fill:none;fill-rule:evenodd;stroke:#FF7F7F;stroke-width:16px;stroke-linecap:butt;stroke-linejoin:miter;stroke-opacity:1\"/>\n",
       "<path d=\"M 235.048,77.7624 286.364,133.357\" style=\"fill:none;fill-rule:evenodd;stroke:#FF7F7F;stroke-width:16px;stroke-linecap:butt;stroke-linejoin:miter;stroke-opacity:1\"/>\n",
       "<path d=\"M 263.875,205.595 190.071,222.238\" style=\"fill:none;fill-rule:evenodd;stroke:#FF7F7F;stroke-width:16px;stroke-linecap:butt;stroke-linejoin:miter;stroke-opacity:1\"/>\n",
       "<ellipse cx=\"13.6364\" cy=\"127.691\" rx=\"20.1753\" ry=\"20.1753\" style=\"fill:#FF7F7F;fill-rule:evenodd;stroke:#FF7F7F;stroke-width:1px;stroke-linecap:butt;stroke-linejoin:miter;stroke-opacity:1\"/>\n",
       "<ellipse cx=\"64.9515\" cy=\"183.286\" rx=\"20.1753\" ry=\"20.1753\" style=\"fill:#FF7F7F;fill-rule:evenodd;stroke:#FF7F7F;stroke-width:1px;stroke-linecap:butt;stroke-linejoin:miter;stroke-opacity:1\"/>\n",
       "<ellipse cx=\"138.756\" cy=\"166.643\" rx=\"20.1753\" ry=\"20.1753\" style=\"fill:#FF7F7F;fill-rule:evenodd;stroke:#FF7F7F;stroke-width:1px;stroke-linecap:butt;stroke-linejoin:miter;stroke-opacity:1\"/>\n",
       "<ellipse cx=\"161.244\" cy=\"94.4053\" rx=\"20.1753\" ry=\"20.1753\" style=\"fill:#FF7F7F;fill-rule:evenodd;stroke:#FF7F7F;stroke-width:1px;stroke-linecap:butt;stroke-linejoin:miter;stroke-opacity:1\"/>\n",
       "<ellipse cx=\"235.048\" cy=\"77.7624\" rx=\"20.1753\" ry=\"20.1753\" style=\"fill:#FF7F7F;fill-rule:evenodd;stroke:#FF7F7F;stroke-width:1px;stroke-linecap:butt;stroke-linejoin:miter;stroke-opacity:1\"/>\n",
       "<ellipse cx=\"286.364\" cy=\"133.357\" rx=\"20.1753\" ry=\"20.1753\" style=\"fill:#FF7F7F;fill-rule:evenodd;stroke:#FF7F7F;stroke-width:1px;stroke-linecap:butt;stroke-linejoin:miter;stroke-opacity:1\"/>\n",
       "<ellipse cx=\"263.875\" cy=\"205.595\" rx=\"20.1753\" ry=\"20.1753\" style=\"fill:#FF7F7F;fill-rule:evenodd;stroke:#FF7F7F;stroke-width:1px;stroke-linecap:butt;stroke-linejoin:miter;stroke-opacity:1\"/>\n",
       "<ellipse cx=\"190.071\" cy=\"222.238\" rx=\"20.1753\" ry=\"20.1753\" style=\"fill:#FF7F7F;fill-rule:evenodd;stroke:#FF7F7F;stroke-width:1px;stroke-linecap:butt;stroke-linejoin:miter;stroke-opacity:1\"/>\n",
       "<path d=\"M 8.07689,132.823 59.3921,188.417\" style=\"fill:none;fill-rule:evenodd;stroke:#000000;stroke-width:2px;stroke-linecap:butt;stroke-linejoin:miter;stroke-opacity:1\"/>\n",
       "<path d=\"M 19.1958,122.56 70.511,178.154\" style=\"fill:none;fill-rule:evenodd;stroke:#000000;stroke-width:2px;stroke-linecap:butt;stroke-linejoin:miter;stroke-opacity:1\"/>\n",
       "<path d=\"M 64.9515,183.286 138.756,166.643\" style=\"fill:none;fill-rule:evenodd;stroke:#000000;stroke-width:2px;stroke-linecap:butt;stroke-linejoin:miter;stroke-opacity:1\"/>\n",
       "<path d=\"M 138.756,166.643 161.244,94.4053\" style=\"fill:none;fill-rule:evenodd;stroke:#000000;stroke-width:2px;stroke-linecap:butt;stroke-linejoin:miter;stroke-opacity:1\"/>\n",
       "<path d=\"M 156.576,160.305 172.319,109.739\" style=\"fill:none;fill-rule:evenodd;stroke:#000000;stroke-width:2px;stroke-linecap:butt;stroke-linejoin:miter;stroke-opacity:1\"/>\n",
       "<path d=\"M 138.756,166.643 190.071,222.238\" style=\"fill:none;fill-rule:evenodd;stroke:#000000;stroke-width:2px;stroke-linecap:butt;stroke-linejoin:miter;stroke-opacity:1\"/>\n",
       "<path d=\"M 161.244,94.4053 235.048,77.7624\" style=\"fill:none;fill-rule:evenodd;stroke:#000000;stroke-width:2px;stroke-linecap:butt;stroke-linejoin:miter;stroke-opacity:1\"/>\n",
       "<path d=\"M 235.048,77.7624 286.364,133.357\" style=\"fill:none;fill-rule:evenodd;stroke:#000000;stroke-width:2px;stroke-linecap:butt;stroke-linejoin:miter;stroke-opacity:1\"/>\n",
       "<path d=\"M 231.627,96.3646 267.547,135.281\" style=\"fill:none;fill-rule:evenodd;stroke:#000000;stroke-width:2px;stroke-linecap:butt;stroke-linejoin:miter;stroke-opacity:1\"/>\n",
       "<path d=\"M 286.364,133.357 263.875,205.595\" style=\"fill:none;fill-rule:evenodd;stroke:#000000;stroke-width:2px;stroke-linecap:butt;stroke-linejoin:miter;stroke-opacity:1\"/>\n",
       "<path d=\"M 263.875,205.595 190.071,222.238\" style=\"fill:none;fill-rule:evenodd;stroke:#000000;stroke-width:2px;stroke-linecap:butt;stroke-linejoin:miter;stroke-opacity:1\"/>\n",
       "<path d=\"M 249.476,193.33 197.813,204.98\" style=\"fill:none;fill-rule:evenodd;stroke:#000000;stroke-width:2px;stroke-linecap:butt;stroke-linejoin:miter;stroke-opacity:1\"/>\n",
       "</svg>"
      ],
      "text/plain": [
       "<IPython.core.display.SVG object>"
      ]
     },
     "execution_count": 7,
     "metadata": {},
     "output_type": "execute_result"
    }
   ],
   "source": [
    "SVG(moltosvg(mol, substructure_mol))"
   ]
  },
  {
   "cell_type": "markdown",
   "id": "7e2c2e86",
   "metadata": {},
   "source": [
    "이미지 저장"
   ]
  },
  {
   "cell_type": "code",
   "execution_count": 8,
   "id": "1429b359",
   "metadata": {},
   "outputs": [],
   "source": [
    "with open('mol_image.svg', 'w') as svg_file:\n",
    "    svg_file.write(\n",
    "        SVG(moltosvg(mol, substructure_mol)).data\n",
    "    )"
   ]
  },
  {
   "cell_type": "markdown",
   "id": "844612ac",
   "metadata": {},
   "source": [
    "# References  \n",
    "* https://stackoverflow.com/questions/69735586/how-to-highlight-the-substructure-of-a-molecule-with-thick-red-lines-in-rdkit-as  \n",
    "* https://stackoverflow.com/questions/67189346/how-to-save-ipython-core-display-svg-as-png-file\n",
    "* https://github.com/rdkit/rdkit-tutorials/issues/5"
   ]
  }
 ],
 "metadata": {
  "kernelspec": {
   "display_name": "prj_abs",
   "language": "python",
   "name": "prj_abs"
  },
  "language_info": {
   "codemirror_mode": {
    "name": "ipython",
    "version": 3
   },
   "file_extension": ".py",
   "mimetype": "text/x-python",
   "name": "python",
   "nbconvert_exporter": "python",
   "pygments_lexer": "ipython3",
   "version": "3.6.12"
  }
 },
 "nbformat": 4,
 "nbformat_minor": 5
}
