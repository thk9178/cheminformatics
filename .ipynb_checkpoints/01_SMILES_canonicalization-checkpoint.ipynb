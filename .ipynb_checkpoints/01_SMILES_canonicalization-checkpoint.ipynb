{
 "cells": [
  {
   "cell_type": "markdown",
   "id": "1d647541",
   "metadata": {},
   "source": [
    "# Loading PI1M Database\n",
    "* Reference) Ma, Ruimin, and Tengfei Luo. \"PI1M: a benchmark database for polymer informatics.\" *Journal of Chemical Information and Modeling* 60.10 (**2020**): 4684-4690."
   ]
  },
  {
   "cell_type": "code",
   "execution_count": 1,
   "id": "75ec3365",
   "metadata": {},
   "outputs": [
    {
     "data": {
      "text/html": [
       "<div>\n",
       "<style scoped>\n",
       "    .dataframe tbody tr th:only-of-type {\n",
       "        vertical-align: middle;\n",
       "    }\n",
       "\n",
       "    .dataframe tbody tr th {\n",
       "        vertical-align: top;\n",
       "    }\n",
       "\n",
       "    .dataframe thead th {\n",
       "        text-align: right;\n",
       "    }\n",
       "</style>\n",
       "<table border=\"1\" class=\"dataframe\">\n",
       "  <thead>\n",
       "    <tr style=\"text-align: right;\">\n",
       "      <th></th>\n",
       "      <th>SMILES</th>\n",
       "    </tr>\n",
       "  </thead>\n",
       "  <tbody>\n",
       "    <tr>\n",
       "      <th>0</th>\n",
       "      <td>*CCC[Fe]CCCC(=O)OCCCCOCCCNCC(*)=O</td>\n",
       "    </tr>\n",
       "    <tr>\n",
       "      <th>1</th>\n",
       "      <td>*CCCC1C=CNC2=CC=C2C(*)CCC1</td>\n",
       "    </tr>\n",
       "    <tr>\n",
       "      <th>2</th>\n",
       "      <td>*CCC*</td>\n",
       "    </tr>\n",
       "    <tr>\n",
       "      <th>3</th>\n",
       "      <td>*C(=O)CNC(*)C(=O)OCCCCCNC</td>\n",
       "    </tr>\n",
       "    <tr>\n",
       "      <th>4</th>\n",
       "      <td>*CC(C)(C)CCCCCCC(C)C(=O)N*</td>\n",
       "    </tr>\n",
       "    <tr>\n",
       "      <th>...</th>\n",
       "      <td>...</td>\n",
       "    </tr>\n",
       "    <tr>\n",
       "      <th>995794</th>\n",
       "      <td>*CC(*)(CCC(=O)Oc1ccc(/N=N/c2ccc(C#N)cc2)cc1)c1...</td>\n",
       "    </tr>\n",
       "    <tr>\n",
       "      <th>995795</th>\n",
       "      <td>*Oc1ccccc1NC(=O)c1ccc(/N=N/c2ccc(C(=O)OC(=O)CC...</td>\n",
       "    </tr>\n",
       "    <tr>\n",
       "      <th>995796</th>\n",
       "      <td>*NC(CC)CC(=O)NCCCCCCNS(*)(=O)=O</td>\n",
       "    </tr>\n",
       "    <tr>\n",
       "      <th>995797</th>\n",
       "      <td>*CCN(CCOC(=O)NCCCCCCCCNC(=O)O*)CC(=O)OC</td>\n",
       "    </tr>\n",
       "    <tr>\n",
       "      <th>995798</th>\n",
       "      <td>*OP(=O)(Cl)c1ccc(C(O)c2ccc(*)cc2)cc1</td>\n",
       "    </tr>\n",
       "  </tbody>\n",
       "</table>\n",
       "<p>995799 rows × 1 columns</p>\n",
       "</div>"
      ],
      "text/plain": [
       "                                                   SMILES\n",
       "0                       *CCC[Fe]CCCC(=O)OCCCCOCCCNCC(*)=O\n",
       "1                              *CCCC1C=CNC2=CC=C2C(*)CCC1\n",
       "2                                                   *CCC*\n",
       "3                               *C(=O)CNC(*)C(=O)OCCCCCNC\n",
       "4                              *CC(C)(C)CCCCCCC(C)C(=O)N*\n",
       "...                                                   ...\n",
       "995794  *CC(*)(CCC(=O)Oc1ccc(/N=N/c2ccc(C#N)cc2)cc1)c1...\n",
       "995795  *Oc1ccccc1NC(=O)c1ccc(/N=N/c2ccc(C(=O)OC(=O)CC...\n",
       "995796                    *NC(CC)CC(=O)NCCCCCCNS(*)(=O)=O\n",
       "995797            *CCN(CCOC(=O)NCCCCCCCCNC(=O)O*)CC(=O)OC\n",
       "995798               *OP(=O)(Cl)c1ccc(C(O)c2ccc(*)cc2)cc1\n",
       "\n",
       "[995799 rows x 1 columns]"
      ]
     },
     "execution_count": 1,
     "metadata": {},
     "output_type": "execute_result"
    }
   ],
   "source": [
    "import pandas as pd\n",
    "\n",
    "df = pd.read_csv('PI1M.csv')\n",
    "df"
   ]
  },
  {
   "cell_type": "markdown",
   "id": "15309184",
   "metadata": {},
   "source": [
    "PI1M은 995,799 개의 가상 고분자 SMILES string 을 포함하고 있다."
   ]
  },
  {
   "cell_type": "markdown",
   "id": "30339b99",
   "metadata": {},
   "source": [
    "## Canonical SMILES"
   ]
  },
  {
   "cell_type": "code",
   "execution_count": 2,
   "id": "f7c29d67",
   "metadata": {},
   "outputs": [],
   "source": [
    "import rdkit\n",
    "from rdkit import Chem"
   ]
  },
  {
   "cell_type": "code",
   "execution_count": 3,
   "id": "b31dc5d4",
   "metadata": {},
   "outputs": [],
   "source": [
    "def canonical_smiles(smiles):\n",
    "    return Chem.CanonSmiles(smiles)"
   ]
  },
  {
   "cell_type": "code",
   "execution_count": 4,
   "id": "e5c28ca2",
   "metadata": {},
   "outputs": [
    {
     "name": "stdout",
     "output_type": "stream",
     "text": [
      "Wall time: 4min 46s\n"
     ]
    }
   ],
   "source": [
    "%%time\n",
    "df['Canonical_SMILES'] = df['SMILES'].apply(canonical_smiles)"
   ]
  },
  {
   "cell_type": "code",
   "execution_count": 5,
   "id": "51913667",
   "metadata": {},
   "outputs": [
    {
     "data": {
      "text/plain": [
       "True"
      ]
     },
     "execution_count": 5,
     "metadata": {},
     "output_type": "execute_result"
    }
   ],
   "source": [
    "False in (df['SMILES']==df['Canonical_SMILES'])"
   ]
  },
  {
   "cell_type": "code",
   "execution_count": 6,
   "id": "3401427e",
   "metadata": {},
   "outputs": [],
   "source": [
    "df.to_csv('canonical_PI1M.csv')"
   ]
  },
  {
   "cell_type": "markdown",
   "id": "76d63b20",
   "metadata": {},
   "source": [
    "어떤 화학구조의 SMILES 를 unique representation 으로 만드는 canonicalization 알고리즘은 DB마다 다를 수 있다.\n",
    "RDKit 기준으로는 canonical smiles 가 아닌 smiles 가 포함되어 있다."
   ]
  }
 ],
 "metadata": {
  "kernelspec": {
   "display_name": "ai_gpu",
   "language": "python",
   "name": "ai_gpu"
  },
  "language_info": {
   "codemirror_mode": {
    "name": "ipython",
    "version": 3
   },
   "file_extension": ".py",
   "mimetype": "text/x-python",
   "name": "python",
   "nbconvert_exporter": "python",
   "pygments_lexer": "ipython3",
   "version": "3.7.10"
  },
  "toc": {
   "base_numbering": 1,
   "nav_menu": {},
   "number_sections": true,
   "sideBar": true,
   "skip_h1_title": false,
   "title_cell": "Table of Contents",
   "title_sidebar": "Contents",
   "toc_cell": false,
   "toc_position": {},
   "toc_section_display": true,
   "toc_window_display": false
  }
 },
 "nbformat": 4,
 "nbformat_minor": 5
}
