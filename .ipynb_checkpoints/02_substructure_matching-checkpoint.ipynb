{
 "cells": [
  {
   "cell_type": "code",
   "execution_count": 1,
   "id": "0aa340c0",
   "metadata": {},
   "outputs": [],
   "source": [
    "import rdkit\n",
    "from rdkit import Chem"
   ]
  },
  {
   "cell_type": "markdown",
   "id": "d37c5a6d",
   "metadata": {},
   "source": [
    "'C=C'가 benzene의 substructure에 해당하는지 확인"
   ]
  },
  {
   "cell_type": "code",
   "execution_count": 2,
   "id": "3cd5f465",
   "metadata": {},
   "outputs": [
    {
     "data": {
      "image/png": "[encoded data removed]",
      "text/plain": [
       "<rdkit.Chem.rdchem.Mol at 0x205f9c3c080>"
      ]
     },
     "execution_count": 2,
     "metadata": {},
     "output_type": "execute_result"
    }
   ],
   "source": [
    "benzene = Chem.MolFromSmiles('c1ccccc1')\n",
    "benzene"
   ]
  },
  {
   "cell_type": "code",
   "execution_count": 3,
   "id": "e0d29ee0",
   "metadata": {},
   "outputs": [
    {
     "data": {
      "text/plain": [
       "False"
      ]
     },
     "execution_count": 3,
     "metadata": {},
     "output_type": "execute_result"
    }
   ],
   "source": [
    "benzene.HasSubstructMatch(Chem.MolFromSmiles('C=C'))"
   ]
  },
  {
   "cell_type": "markdown",
   "id": "14152dff",
   "metadata": {},
   "source": [
    "방향족성을 반영하는 benzene 객체는 C=C 가 substructure에 해당하지 않는다고 출력한다."
   ]
  },
  {
   "cell_type": "code",
   "execution_count": 4,
   "id": "fb2e5c84",
   "metadata": {},
   "outputs": [
    {
     "data": {
      "text/plain": [
       "rdkit.Chem.rdchem.BondType.AROMATIC"
      ]
     },
     "execution_count": 4,
     "metadata": {},
     "output_type": "execute_result"
    }
   ],
   "source": [
    "benzene.GetBondWithIdx(0).GetBondType()"
   ]
  },
  {
   "cell_type": "markdown",
   "id": "031f9410",
   "metadata": {},
   "source": [
    "bond type이 AROMATIC이라고 한다."
   ]
  },
  {
   "cell_type": "markdown",
   "id": "ceac738f",
   "metadata": {},
   "source": [
    "Chem.Kekulize 를 이용하면 방향족성 특징을 제거해준다."
   ]
  },
  {
   "cell_type": "code",
   "execution_count": 5,
   "id": "77f8379f",
   "metadata": {},
   "outputs": [
    {
     "data": {
      "text/plain": [
       "rdkit.Chem.rdchem.BondType.DOUBLE"
      ]
     },
     "execution_count": 5,
     "metadata": {},
     "output_type": "execute_result"
    }
   ],
   "source": [
    "Chem.Kekulize(benzene)\n",
    "benzene.GetBondWithIdx(0).GetBondType()"
   ]
  },
  {
   "cell_type": "markdown",
   "id": "9c9cf8bd",
   "metadata": {},
   "source": [
    "DOUBLE. 즉, 이중결합이라고 출력해주고 있다."
   ]
  },
  {
   "cell_type": "code",
   "execution_count": 6,
   "id": "5076c6d8",
   "metadata": {},
   "outputs": [
    {
     "data": {
      "text/plain": [
       "True"
      ]
     },
     "execution_count": 6,
     "metadata": {},
     "output_type": "execute_result"
    }
   ],
   "source": [
    "benzene.HasSubstructMatch(Chem.MolFromSmiles('C=C'))"
   ]
  },
  {
   "cell_type": "markdown",
   "id": "a0903ab9",
   "metadata": {},
   "source": [
    "'C=C'가 benzene의 substructure라고 반환한다."
   ]
  },
  {
   "cell_type": "markdown",
   "id": "b98a0dba",
   "metadata": {},
   "source": [
    "## 추가 예시\n",
    "Mol 객체의 aromaticity 는 Canonical SMILES 때문인가?"
   ]
  },
  {
   "cell_type": "code",
   "execution_count": 7,
   "id": "c08e2278",
   "metadata": {},
   "outputs": [
    {
     "name": "stdout",
     "output_type": "stream",
     "text": [
      "Kekulized SMILES of toluene: CC1=CC=CC=C1\n",
      "Canonical SMILES of toluene: Cc1ccccc1\n"
     ]
    }
   ],
   "source": [
    "toluene = 'CC1=CC=CC=C1'\n",
    "canonical_toluene = Chem.CanonSmiles('CC1=CC=CC=C1')\n",
    "print('Kekulized SMILES of toluene:', toluene)\n",
    "print('Canonical SMILES of toluene:', canonical_toluene)"
   ]
  },
  {
   "cell_type": "code",
   "execution_count": 8,
   "id": "4a0dbb0e",
   "metadata": {},
   "outputs": [],
   "source": [
    "mol_toluene = Chem.MolFromSmiles(toluene)\n",
    "mol_canonical_toluene = Chem.MolFromSmiles(canonical_toluene)"
   ]
  },
  {
   "cell_type": "code",
   "execution_count": 9,
   "id": "5846c6f8",
   "metadata": {},
   "outputs": [
    {
     "data": {
      "text/plain": [
       "False"
      ]
     },
     "execution_count": 9,
     "metadata": {},
     "output_type": "execute_result"
    }
   ],
   "source": [
    "mol_toluene.HasSubstructMatch(benzene)"
   ]
  },
  {
   "cell_type": "code",
   "execution_count": 10,
   "id": "a358efb8",
   "metadata": {},
   "outputs": [
    {
     "data": {
      "text/plain": [
       "False"
      ]
     },
     "execution_count": 10,
     "metadata": {},
     "output_type": "execute_result"
    }
   ],
   "source": [
    "mol_canonical_toluene.HasSubstructMatch(benzene)"
   ]
  },
  {
   "cell_type": "markdown",
   "id": "57042bea",
   "metadata": {},
   "source": [
    "Canonical SMILES 의 여부와는 상관없이 MolFromSmiles 메서드는 분자의 aromaticity 를 인식한다."
   ]
  },
  {
   "cell_type": "code",
   "execution_count": 11,
   "id": "ea17eeda",
   "metadata": {},
   "outputs": [],
   "source": [
    "Chem.Kekulize(mol_toluene)\n",
    "Chem.Kekulize(mol_canonical_toluene)"
   ]
  },
  {
   "cell_type": "code",
   "execution_count": 12,
   "id": "e3c17be4",
   "metadata": {},
   "outputs": [
    {
     "data": {
      "text/plain": [
       "True"
      ]
     },
     "execution_count": 12,
     "metadata": {},
     "output_type": "execute_result"
    }
   ],
   "source": [
    "mol_toluene.HasSubstructMatch(benzene)"
   ]
  },
  {
   "cell_type": "code",
   "execution_count": 13,
   "id": "80eeeb39",
   "metadata": {},
   "outputs": [
    {
     "data": {
      "text/plain": [
       "True"
      ]
     },
     "execution_count": 13,
     "metadata": {},
     "output_type": "execute_result"
    }
   ],
   "source": [
    "mol_canonical_toluene.HasSubstructMatch(benzene)"
   ]
  },
  {
   "cell_type": "markdown",
   "id": "a9825ba9",
   "metadata": {},
   "source": [
    "Chem.Kekulize() 를 이용하면 방향족성 정보를 없애고 substructure 검색이 가능하다."
   ]
  }
 ],
 "metadata": {
  "kernelspec": {
   "display_name": "ai_gpu",
   "language": "python",
   "name": "ai_gpu"
  },
  "language_info": {
   "codemirror_mode": {
    "name": "ipython",
    "version": 3
   },
   "file_extension": ".py",
   "mimetype": "text/x-python",
   "name": "python",
   "nbconvert_exporter": "python",
   "pygments_lexer": "ipython3",
   "version": "3.7.10"
  },
  "toc": {
   "base_numbering": 1,
   "nav_menu": {},
   "number_sections": true,
   "sideBar": true,
   "skip_h1_title": false,
   "title_cell": "Table of Contents",
   "title_sidebar": "Contents",
   "toc_cell": false,
   "toc_position": {},
   "toc_section_display": true,
   "toc_window_display": false
  }
 },
 "nbformat": 4,
 "nbformat_minor": 5
}
