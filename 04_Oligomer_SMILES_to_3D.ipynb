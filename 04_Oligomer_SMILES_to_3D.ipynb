{
 "cells": [
  {
   "cell_type": "code",
   "execution_count": 51,
   "id": "95fab04e",
   "metadata": {},
   "outputs": [],
   "source": [
    "import pandas as pd\n",
    "import numpy as np\n",
    "import rdkit\n",
    "from rdkit import Chem\n",
    "from rdkit.Chem import AllChem"
   ]
  },
  {
   "cell_type": "code",
   "execution_count": 52,
   "id": "acd809e3",
   "metadata": {},
   "outputs": [
    {
     "data": {
      "text/html": [
       "<div>\n",
       "<style scoped>\n",
       "    .dataframe tbody tr th:only-of-type {\n",
       "        vertical-align: middle;\n",
       "    }\n",
       "\n",
       "    .dataframe tbody tr th {\n",
       "        vertical-align: top;\n",
       "    }\n",
       "\n",
       "    .dataframe thead th {\n",
       "        text-align: right;\n",
       "    }\n",
       "</style>\n",
       "<table border=\"1\" class=\"dataframe\">\n",
       "  <thead>\n",
       "    <tr style=\"text-align: right;\">\n",
       "      <th></th>\n",
       "      <th>Name</th>\n",
       "      <th>SMILES</th>\n",
       "    </tr>\n",
       "  </thead>\n",
       "  <tbody>\n",
       "    <tr>\n",
       "      <th>0</th>\n",
       "      <td>pi1</td>\n",
       "      <td>N1C(=O)C2=CC3=C(C=C2C1=O)C(=O)N(C3=O)C1=CC=C(...</td>\n",
       "    </tr>\n",
       "    <tr>\n",
       "      <th>1</th>\n",
       "      <td>p12</td>\n",
       "      <td>N1C(=O)C2=CC3=C(C=C2C1=O)C(=O)N(C3=O)C1=CC=C(...</td>\n",
       "    </tr>\n",
       "    <tr>\n",
       "      <th>2</th>\n",
       "      <td>benzene</td>\n",
       "      <td>c1ccccc1</td>\n",
       "    </tr>\n",
       "    <tr>\n",
       "      <th>3</th>\n",
       "      <td>cyclohexane</td>\n",
       "      <td>C1CCCCC1</td>\n",
       "    </tr>\n",
       "    <tr>\n",
       "      <th>4</th>\n",
       "      <td>styrene</td>\n",
       "      <td>C=Cc1ccccc1</td>\n",
       "    </tr>\n",
       "  </tbody>\n",
       "</table>\n",
       "</div>"
      ],
      "text/plain": [
       "          Name                                             SMILES\n",
       "0          pi1   N1C(=O)C2=CC3=C(C=C2C1=O)C(=O)N(C3=O)C1=CC=C(...\n",
       "1          p12   N1C(=O)C2=CC3=C(C=C2C1=O)C(=O)N(C3=O)C1=CC=C(...\n",
       "2      benzene                                           c1ccccc1\n",
       "3  cyclohexane                                           C1CCCCC1\n",
       "4      styrene                                        C=Cc1ccccc1"
      ]
     },
     "execution_count": 52,
     "metadata": {},
     "output_type": "execute_result"
    }
   ],
   "source": [
    "df = pd.read_csv('./smi.csv', names=['Name','SMILES'])\n",
    "df"
   ]
  },
  {
   "cell_type": "code",
   "execution_count": 54,
   "id": "33ee1495",
   "metadata": {},
   "outputs": [
    {
     "name": "stdout",
     "output_type": "stream",
     "text": [
      "0\n",
      "0\n",
      "0\n",
      "0\n",
      "0\n"
     ]
    }
   ],
   "source": [
    "mols = [Chem.MolFromSmiles(smi) for smi in df.SMILES]\n",
    "hmols = [Chem.AddHs(m) for m in mols]\n",
    "for mol  in hmols:\n",
    "    AllChem.EmbedMolecule(mol,AllChem.ETKDG())\n",
    "    print(AllChem.UFFOptimizeMolecule(mol,1000))\n",
    "    \n",
    "smiles = list(df.SMILES)\n",
    "#sid = list(df.SOURCE_ID)\n",
    "#libs = df[df.columns[0]]\n",
    "writer = Chem.SDWriter('TEST.sdf')\n",
    "\n",
    "for n in range(len(df)):\n",
    "    #hmols[n].SetProp(\"_Library\",\"%s\"%libs[n])\n",
    "    #hmols[n].SetProp(\"_Name\",\"%s\"%sid[n])\n",
    "    #hmols[n].SetProp(\"_SourceID\",\"%s\"%sid[n])\n",
    "    hmols[n].SetProp(\"_SMILES\",\"%s\"%smiles[n])\n",
    "    writer.write(hmols[n])\n",
    "writer.close()"
   ]
  },
  {
   "cell_type": "code",
   "execution_count": 50,
   "id": "500a180d",
   "metadata": {},
   "outputs": [
    {
     "data": {
      "image/png": "[encoded data removed]",
      "text/plain": [
       "<rdkit.Chem.rdchem.Mol at 0x7f7fe9b6dbc0>"
      ]
     },
     "execution_count": 50,
     "metadata": {},
     "output_type": "execute_result"
    }
   ],
   "source": [
    "mols[0]"
   ]
  },
  {
   "cell_type": "markdown",
   "id": "e0dae787",
   "metadata": {},
   "source": [
    "H로 passivation 된 PMDA-PDA 의 oligomer 가 Mol object 로 생성되었고,  \n",
    "3D 구조로도 성공적으로 변환이 된다."
   ]
  },
  {
   "cell_type": "code",
   "execution_count": null,
   "id": "76125b71",
   "metadata": {},
   "outputs": [],
   "source": []
  }
 ],
 "metadata": {
  "kernelspec": {
   "display_name": "chemvae",
   "language": "python",
   "name": "chemvae"
  },
  "language_info": {
   "codemirror_mode": {
    "name": "ipython",
    "version": 3
   },
   "file_extension": ".py",
   "mimetype": "text/x-python",
   "name": "python",
   "nbconvert_exporter": "python",
   "pygments_lexer": "ipython3",
   "version": "3.6.15"
  }
 },
 "nbformat": 4,
 "nbformat_minor": 5
}
